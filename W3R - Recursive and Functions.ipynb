{
 "cells": [
  {
   "cell_type": "code",
   "execution_count": 77,
   "metadata": {
    "collapsed": true
   },
   "outputs": [],
   "source": [
    "import numpy as np\n",
    "import math\n",
    "from scipy import stats"
   ]
  },
  {
   "cell_type": "markdown",
   "metadata": {},
   "source": [
    "# Recursive "
   ]
  },
  {
   "cell_type": "markdown",
   "metadata": {},
   "source": [
    "### Write a Python program to calculate the sum of a list of numbers"
   ]
  },
  {
   "cell_type": "code",
   "execution_count": 10,
   "metadata": {},
   "outputs": [
    {
     "name": "stdout",
     "output_type": "stream",
     "text": [
      "28 28\n"
     ]
    }
   ],
   "source": [
    "def cal_sum(lst):\n",
    "    total = 0\n",
    "    if len(lst) == 1:\n",
    "        total = lst[0]\n",
    "    elif len(lst) == 0:\n",
    "        total = 0\n",
    "    else:\n",
    "        total = lst[0] + cal_sum(lst[1:])\n",
    "    return total\n",
    "lst = [1,2,3,5,8,9]\n",
    "print cal_sum(lst), sum(lst)"
   ]
  },
  {
   "cell_type": "markdown",
   "metadata": {},
   "source": [
    "### Write a Python program of recursion list sum\n",
    "Test Data: [1, 2, [3,4], [5,6]]\n",
    "Expected Result: 21"
   ]
  },
  {
   "cell_type": "code",
   "execution_count": 81,
   "metadata": {},
   "outputs": [
    {
     "data": {
      "text/plain": [
       "21"
      ]
     },
     "execution_count": 81,
     "metadata": {},
     "output_type": "execute_result"
    }
   ],
   "source": [
    "def rec_sum(lst):\n",
    "    total = 0\n",
    "    for i in lst:\n",
    "        if type(i) == type([]):\n",
    "            total = total + rec_sum(i)\n",
    "        else:\n",
    "            total = total + i\n",
    "    return total\n",
    "rec_sum([1, 2, [3,4], [5,6]])"
   ]
  },
  {
   "cell_type": "markdown",
   "metadata": {},
   "source": [
    "### Write a Python program to get the factorial of a non-negative integer"
   ]
  },
  {
   "cell_type": "code",
   "execution_count": 21,
   "metadata": {},
   "outputs": [
    {
     "name": "stdout",
     "output_type": "stream",
     "text": [
      "120\n",
      "120\n"
     ]
    }
   ],
   "source": [
    "def factorial(number):\n",
    "    output = 0\n",
    "    if number >= 1:\n",
    "        output = number * factorial(number-1)\n",
    "    else:\n",
    "        output = 1\n",
    "    return output\n",
    "print factorial(5)\n",
    "print math.factorial(5)"
   ]
  },
  {
   "cell_type": "markdown",
   "metadata": {},
   "source": [
    "### Write a Python program to solve the Fibonacci sequence using recursion"
   ]
  },
  {
   "cell_type": "code",
   "execution_count": 41,
   "metadata": {},
   "outputs": [
    {
     "data": {
      "text/plain": [
       "21"
      ]
     },
     "execution_count": 41,
     "metadata": {},
     "output_type": "execute_result"
    }
   ],
   "source": [
    "# output the n th number in a fibonacci sequence\n",
    "def fibonacci_sum(n):\n",
    "    if n == 1 or n == 2:\n",
    "        return 1\n",
    "    else:\n",
    "        return (fibonacci_sum(n-1) + (fibonacci_sum(n-2)))\n",
    "fibonacci_sum(8)"
   ]
  },
  {
   "cell_type": "code",
   "execution_count": 68,
   "metadata": {},
   "outputs": [
    {
     "data": {
      "text/plain": [
       "[1, 1, 2, 3, 5, 8, 13, 21]"
      ]
     },
     "execution_count": 68,
     "metadata": {},
     "output_type": "execute_result"
    }
   ],
   "source": [
    "def fibonacci(n):\n",
    "#     lst = [1 if i <=1 else 0 for i in range(n)]\n",
    "    lst = [1 for i in range(n)]\n",
    "    if n > 2:\n",
    "        for i in range(2,n):\n",
    "             lst[i] = (lst[i-1] + lst[i-2])\n",
    "    return lst\n",
    "fibonacci(8)       "
   ]
  },
  {
   "cell_type": "markdown",
   "metadata": {},
   "source": [
    "### Write a Python program to get the sum of a non-negative integer\n",
    "sumDigits(345) -> 12\n",
    "sumDigits(45) -> 9 "
   ]
  },
  {
   "cell_type": "code",
   "execution_count": 80,
   "metadata": {},
   "outputs": [
    {
     "name": "stdout",
     "output_type": "stream",
     "text": [
      "12 9\n"
     ]
    }
   ],
   "source": [
    "def get_sum(number):\n",
    "    n = str(number)\n",
    "    if len(n) == 1:\n",
    "        return int(n)\n",
    "    else:\n",
    "        return int(n[0]) + get_sum(int(n[1:]))\n",
    "print get_sum(345), get_sum(45)"
   ]
  },
  {
   "cell_type": "code",
   "execution_count": 86,
   "metadata": {},
   "outputs": [
    {
     "name": "stdout",
     "output_type": "stream",
     "text": [
      "12 9\n"
     ]
    }
   ],
   "source": [
    "def get_sum2(n):\n",
    "    if n // 10 == 0:\n",
    "        return n\n",
    "    else:\n",
    "        return n % 10 + get_sum2(n // 10)\n",
    "print get_sum2(345), get_sum2(45)"
   ]
  },
  {
   "cell_type": "markdown",
   "metadata": {},
   "source": [
    "### Write a Python program to calculate the sum of the positive integers of n+(n-2)+(n-4)... (until n-x =< 0)\n",
    "Test Data: \n",
    "sum_series(6) -> 12\n",
    "sum_series(10) -> 30 "
   ]
  },
  {
   "cell_type": "code",
   "execution_count": 95,
   "metadata": {},
   "outputs": [
    {
     "name": "stdout",
     "output_type": "stream",
     "text": [
      "12 30\n"
     ]
    }
   ],
   "source": [
    "def sum2(n):\n",
    "    if n - 2 < 0:\n",
    "        return 0\n",
    "    else:\n",
    "        return n + sum2(n-2)\n",
    "print sum2(6), sum2(10)"
   ]
  },
  {
   "cell_type": "markdown",
   "metadata": {},
   "source": [
    "### Write a Python program to calculate the harmonic sum of n-1\n",
    "Note: The harmonic sum is the sum of reciprocals of the positive integers. "
   ]
  },
  {
   "cell_type": "code",
   "execution_count": 98,
   "metadata": {},
   "outputs": [
    {
     "data": {
      "text/plain": [
       "2.283333333333333"
      ]
     },
     "execution_count": 98,
     "metadata": {},
     "output_type": "execute_result"
    }
   ],
   "source": [
    "def harmonic_sum(n):\n",
    "    if n > 0:\n",
    "        return 1.0/n + harmonic_sum(n-1)\n",
    "    else:\n",
    "        return 0\n",
    "harmonic_sum(5)"
   ]
  },
  {
   "cell_type": "code",
   "execution_count": 96,
   "metadata": {},
   "outputs": [
    {
     "data": {
      "text/plain": [
       "2.283333333333333"
      ]
     },
     "execution_count": 96,
     "metadata": {},
     "output_type": "execute_result"
    }
   ],
   "source": [
    "1+1/2.0+1/3.0+1/4.0+1/5.0"
   ]
  },
  {
   "cell_type": "markdown",
   "metadata": {},
   "source": [
    "###  Write a Python program to calculate the value of 'a' to the power 'b'\n",
    "Test Data : \n",
    "(power(3,4) -> 81 "
   ]
  },
  {
   "cell_type": "code",
   "execution_count": 103,
   "metadata": {},
   "outputs": [
    {
     "name": "stdout",
     "output_type": "stream",
     "text": [
      "81 0 1\n"
     ]
    }
   ],
   "source": [
    "def power(a,b):\n",
    "    if b==0:\n",
    "        return 1\n",
    "    elif a==0:\n",
    "        return 0\n",
    "    elif b>0:\n",
    "        return a*power(a,b-1)\n",
    "    else:\n",
    "        return 1\n",
    "print power(3,4), pow(0,1), pow(5,0)"
   ]
  },
  {
   "cell_type": "markdown",
   "metadata": {},
   "source": [
    "### Write a Python program to find  the greatest common divisor (gcd) of two integers"
   ]
  },
  {
   "cell_type": "code",
   "execution_count": 120,
   "metadata": {},
   "outputs": [
    {
     "data": {
      "text/plain": [
       "50"
      ]
     },
     "execution_count": 120,
     "metadata": {},
     "output_type": "execute_result"
    }
   ],
   "source": [
    "def common_divisor(a,b):\n",
    "    low = min(a,b)\n",
    "    high = max(a,b)\n",
    "    if a == 0 or b == 0:\n",
    "        return 0\n",
    "    elif a >= b and b > 0:\n",
    "        if a % b == 0:\n",
    "            return b\n",
    "        else:\n",
    "            common_divisor(a, b%a)\n",
    "    elif a < b and a > 0:\n",
    "        if b % a == 0:\n",
    "            return a\n",
    "        else:\n",
    "            return common_divisor(a-1, b)\n",
    "    else:\n",
    "        return 1\n",
    "common_divisor(80,100)"
   ]
  },
  {
   "cell_type": "code",
   "execution_count": 119,
   "metadata": {},
   "outputs": [
    {
     "data": {
      "text/plain": [
       "2"
      ]
     },
     "execution_count": 119,
     "metadata": {},
     "output_type": "execute_result"
    }
   ],
   "source": [
    "def divisor2(a,b):\n",
    "    low = min(a,b)\n",
    "    high = max(a,b)\n",
    "    if low == 0:\n",
    "        return high\n",
    "    elif low == 1:\n",
    "        return 1\n",
    "    else: \n",
    "        return divisor2(low, high%low)\n",
    "divisor2(12,10)"
   ]
  },
  {
   "cell_type": "markdown",
   "metadata": {},
   "source": [
    "### Write a function to convert a list\n",
    "[1,2,[[[1,3]]],3,5] -> [1,2,1,3,3,5]"
   ]
  },
  {
   "cell_type": "code",
   "execution_count": 83,
   "metadata": {},
   "outputs": [
    {
     "name": "stdout",
     "output_type": "stream",
     "text": [
      "[1, 2, 1, 3, 3, 5]\n"
     ]
    }
   ],
   "source": [
    "def unlist(lst):\n",
    "    new_lst = []\n",
    "    for i in lst:\n",
    "        if type(i) == int:\n",
    "            new_lst.append(i)\n",
    "        elif type(i) == list:\n",
    "            new_lst = new_lst + unlist(i)\n",
    "    return new_lst\n",
    "print unlist([1,2,[[[1,3]]],3,5])"
   ]
  },
  {
   "cell_type": "markdown",
   "metadata": {},
   "source": [
    "# Data Structures"
   ]
  },
  {
   "cell_type": "markdown",
   "metadata": {},
   "source": [
    "### Write a Python program to count the most common words in a dictionary\n",
    "Expected Output:\n",
    "[('pink', 6), ('black', 5), ('white', 5), ('red', 4)]"
   ]
  },
  {
   "cell_type": "code",
   "execution_count": 102,
   "metadata": {},
   "outputs": [
    {
     "name": "stdout",
     "output_type": "stream",
     "text": [
      "{'pink': 6, 'eyes': 1, 'black': 5, 'orange': 4, 'green': 4, 'white': 5, 'red': 4}\n"
     ]
    },
    {
     "data": {
      "text/plain": [
       "[('pink', 6), ('black', 5), ('white', 5), ('orange', 4)]"
      ]
     },
     "execution_count": 102,
     "metadata": {},
     "output_type": "execute_result"
    }
   ],
   "source": [
    "def count_word(lst):\n",
    "    dic = {}\n",
    "    for i, j in enumerate(lst):\n",
    "        if j in dic:\n",
    "            dic[j] += 1\n",
    "        else:\n",
    "            dic[j] = 1\n",
    "    return dic\n",
    "words = [\n",
    "   'red', 'green', 'black', 'pink', 'black', 'white', 'black', 'eyes',\n",
    "   'white', 'black', 'orange', 'pink', 'pink', 'red', 'red', 'white', 'orange',\n",
    "   'white', \"black\", 'pink', 'green', 'green', 'pink', 'green', 'pink',\n",
    "   'white', 'orange', \"orange\", 'red'\n",
    "]\n",
    "print count_word(words)\n",
    "\n",
    "from collections import Counter\n",
    "def most_common(lst):\n",
    "    dic = Counter(lst)\n",
    "    return dic.most_common(4)\n",
    "most_common(words)"
   ]
  },
  {
   "cell_type": "markdown",
   "metadata": {},
   "source": [
    "### Write a Python program to count the number of students of individual class\n",
    "Sample data:\n",
    "classes = (\n",
    "('V', 1),\n",
    "('VI', 1),\n",
    "('V', 2),\n",
    "('VI', 2),\n",
    "('VI', 3),\n",
    "('VII', 1),\n",
    ")\n",
    "Expected Output:\n",
    "Counter({'VI': 3, 'V': 2, 'VII': 1})"
   ]
  },
  {
   "cell_type": "code",
   "execution_count": 116,
   "metadata": {},
   "outputs": [
    {
     "data": {
      "text/plain": [
       "Counter({'V': 2, 'VI': 3, 'VII': 1})"
      ]
     },
     "execution_count": 116,
     "metadata": {},
     "output_type": "execute_result"
    }
   ],
   "source": [
    "from collections import Counter\n",
    "def count(classes):\n",
    "    dic_new = Counter(class_name for class_name, num in classes)\n",
    "    return dic_new\n",
    "classes = ( ('V', 1), ('VI', 1), ('V', 2), ('VI', 2), ('VI', 3), ('VII', 1), )\n",
    "count(classes)"
   ]
  },
  {
   "cell_type": "markdown",
   "metadata": {},
   "source": [
    "# Functions"
   ]
  },
  {
   "cell_type": "markdown",
   "metadata": {},
   "source": [
    "### Write a Python function to find the Max of three numbers"
   ]
  },
  {
   "cell_type": "code",
   "execution_count": 1,
   "metadata": {},
   "outputs": [
    {
     "data": {
      "text/plain": [
       "8"
      ]
     },
     "execution_count": 1,
     "metadata": {},
     "output_type": "execute_result"
    }
   ],
   "source": [
    "def max_of_two(x,y):\n",
    "    if x > y:\n",
    "        return x\n",
    "    else:\n",
    "        return y\n",
    "def max_of_three(x,y,z):\n",
    "    if z > max_of_two(x,y):\n",
    "        return z\n",
    "    else:\n",
    "        return max_of_two(x,y)\n",
    "max_of_three(2,5,8)  "
   ]
  },
  {
   "cell_type": "markdown",
   "metadata": {},
   "source": [
    "### Write a Python function to sum all the numbers in a list"
   ]
  },
  {
   "cell_type": "code",
   "execution_count": 3,
   "metadata": {},
   "outputs": [
    {
     "data": {
      "text/plain": [
       "16"
      ]
     },
     "execution_count": 3,
     "metadata": {},
     "output_type": "execute_result"
    }
   ],
   "source": [
    "def total(lst):\n",
    "    total = 0\n",
    "    for i in range(len(lst)):\n",
    "        total += lst[i]\n",
    "    return total\n",
    "total([1,3,5,7])"
   ]
  },
  {
   "cell_type": "markdown",
   "metadata": {},
   "source": [
    "### Write a Python function to multiply all the numbers in a list"
   ]
  },
  {
   "cell_type": "code",
   "execution_count": 5,
   "metadata": {},
   "outputs": [
    {
     "data": {
      "text/plain": [
       "105"
      ]
     },
     "execution_count": 5,
     "metadata": {},
     "output_type": "execute_result"
    }
   ],
   "source": [
    "def multiply(lst):\n",
    "    total = 1\n",
    "    for i in range(len(lst)):\n",
    "        total *= lst[i]\n",
    "    return total\n",
    "multiply([1,3,5,7])"
   ]
  },
  {
   "cell_type": "markdown",
   "metadata": {},
   "source": [
    "### Write a Python program to reverse a string"
   ]
  },
  {
   "cell_type": "code",
   "execution_count": 18,
   "metadata": {},
   "outputs": [
    {
     "data": {
      "text/plain": [
       "'elppa'"
      ]
     },
     "execution_count": 18,
     "metadata": {},
     "output_type": "execute_result"
    }
   ],
   "source": [
    "def reverse(s):\n",
    "    new_string = ''\n",
    "    while len(s) >= 1:\n",
    "        new_string = s[0]+new_string\n",
    "        s = s[1:]\n",
    "    return new_string\n",
    "reverse('apple')"
   ]
  },
  {
   "cell_type": "markdown",
   "metadata": {},
   "source": [
    "### Write a Python function to calculate the factorial of a number (a non-negative integer). The function accepts the number as an argument."
   ]
  },
  {
   "cell_type": "code",
   "execution_count": 31,
   "metadata": {},
   "outputs": [
    {
     "name": "stdout",
     "output_type": "stream",
     "text": [
      "Please input a number: 6\n",
      "720 720\n"
     ]
    }
   ],
   "source": [
    "def factorial(n):\n",
    "    if n >= 1:\n",
    "        return n*factorial(n-1)\n",
    "    else:\n",
    "        return 1\n",
    "n = int(raw_input('Please input a number: '))\n",
    "print factorial(n), math.factorial(n)"
   ]
  },
  {
   "cell_type": "markdown",
   "metadata": {},
   "source": [
    "### Write a Python function to check whether a number is in a given range"
   ]
  },
  {
   "cell_type": "code",
   "execution_count": 28,
   "metadata": {},
   "outputs": [
    {
     "name": "stdout",
     "output_type": "stream",
     "text": [
      "This number 10 is in the range\n"
     ]
    }
   ],
   "source": [
    "def check_range(n, upper, lower):\n",
    "    if n in range(upper, lower+1):\n",
    "        print 'This number %s is in the range' % str(n)\n",
    "    else:\n",
    "        print 'This number %s is NOT in the range' % str(n)\n",
    "check_range(10, 1,10)"
   ]
  },
  {
   "cell_type": "markdown",
   "metadata": {},
   "source": [
    "### Write a Python function that takes a list and returns a new list with unique elements of the first list\n",
    "Sample List : [1,2,3,3,3,3,4,5]\n",
    "Unique List : [1, 2, 3, 4, 5]"
   ]
  },
  {
   "cell_type": "code",
   "execution_count": 32,
   "metadata": {},
   "outputs": [
    {
     "data": {
      "text/plain": [
       "[1, 2, 3, 4, 5]"
      ]
     },
     "execution_count": 32,
     "metadata": {},
     "output_type": "execute_result"
    }
   ],
   "source": [
    "def unique_lst(lst):\n",
    "    new_lst = []\n",
    "    for i in lst:\n",
    "        if i in new_lst:\n",
    "            continue\n",
    "        else:\n",
    "            new_lst.append(i)\n",
    "    return new_lst\n",
    "unique_lst([1,2,3,3,3,3,4,5])"
   ]
  },
  {
   "cell_type": "markdown",
   "metadata": {},
   "source": [
    "### Write a Python function that accepts a string and calculate the number of upper case letters and lower case letters"
   ]
  },
  {
   "cell_type": "code",
   "execution_count": 36,
   "metadata": {},
   "outputs": [
    {
     "name": "stdout",
     "output_type": "stream",
     "text": [
      "There are 8 lower case and 2 upper case letters\n"
     ]
    }
   ],
   "source": [
    "def case(s):\n",
    "    upper = 0\n",
    "    lower = 0\n",
    "    for i in range(len(s)):\n",
    "        if s[i].isupper():\n",
    "            upper += 1\n",
    "        elif s[i].islower():\n",
    "            lower += 1\n",
    "    print 'There are %d lower case and %d upper case letters' % (lower, upper)\n",
    "case('StringBean')"
   ]
  },
  {
   "cell_type": "markdown",
   "metadata": {},
   "source": [
    "### Write a Python function that takes a number as a parameter and check the number is prime or not"
   ]
  },
  {
   "cell_type": "code",
   "execution_count": 50,
   "metadata": {},
   "outputs": [
    {
     "data": {
      "text/plain": [
       "'2 is a prime'"
      ]
     },
     "execution_count": 50,
     "metadata": {},
     "output_type": "execute_result"
    }
   ],
   "source": [
    "def prime(n):\n",
    "    if n == 1:\n",
    "        return '%d is not a prime' % n\n",
    "    elif n == 2:\n",
    "        return '%d is a prime' % n\n",
    "    else:\n",
    "        for i in range(2, n//2):\n",
    "            if n % i == 0:\n",
    "                return '%d is not a prime' % n\n",
    "                break;\n",
    "            else:\n",
    "                return '%d is a prime' % n\n",
    "prime(2)"
   ]
  },
  {
   "cell_type": "markdown",
   "metadata": {},
   "source": [
    "### Write a Python program to print the even numbers from a given list"
   ]
  },
  {
   "cell_type": "code",
   "execution_count": 76,
   "metadata": {},
   "outputs": [
    {
     "name": "stdout",
     "output_type": "stream",
     "text": [
      "[2, 4, 6, 8]\n"
     ]
    }
   ],
   "source": [
    "def find_even(lst):\n",
    "    new_lst = []\n",
    "    for i in lst:\n",
    "        if i % 2 == 0:\n",
    "            new_lst.append(i)\n",
    "    return new_lst\n",
    "\n",
    "print find_even([1, 2, 3, 4, 5, 6, 7, 8, 9])"
   ]
  },
  {
   "cell_type": "markdown",
   "metadata": {
    "collapsed": true
   },
   "source": [
    "### Write a Python function that checks whether a passed string is palindrome or not\n",
    "Note: A palindrome is a word, phrase, or sequence that reads the same backward as forward, e.g., madam or nurses run."
   ]
  },
  {
   "cell_type": "code",
   "execution_count": 139,
   "metadata": {},
   "outputs": [
    {
     "data": {
      "text/plain": [
       "True"
      ]
     },
     "execution_count": 139,
     "metadata": {},
     "output_type": "execute_result"
    }
   ],
   "source": [
    "def palindrome(s):\n",
    "    s = s.replace(' ', '').replace(',', '').replace('.', '')\n",
    "    mid = len(s) // 2\n",
    "    first = s[:mid]\n",
    "    second = s[(mid+1):]\n",
    "    if first == second[::-1]:\n",
    "        return True\n",
    "    else:\n",
    "        return False\n",
    "palindrome('apple lppa')"
   ]
  },
  {
   "cell_type": "markdown",
   "metadata": {},
   "source": [
    "### Find the first letter that appears twice in a string"
   ]
  },
  {
   "cell_type": "code",
   "execution_count": 214,
   "metadata": {},
   "outputs": [
    {
     "data": {
      "text/plain": [
       "'a'"
      ]
     },
     "execution_count": 214,
     "metadata": {},
     "output_type": "execute_result"
    }
   ],
   "source": [
    "from collections import OrderedDict\n",
    "def firstRepeatingLetter(s):\n",
    "    dic = OrderedDict()\n",
    "    for i in s:\n",
    "        if i in dic:\n",
    "            dic[i] += 1\n",
    "        else:\n",
    "            dic[i] = 1\n",
    "    for x, y in dic.items():\n",
    "        if y>=2:\n",
    "            return x\n",
    "firstRepeatingLetter('abcedea')"
   ]
  },
  {
   "cell_type": "markdown",
   "metadata": {},
   "source": [
    "### How to find sqrt(m)"
   ]
  },
  {
   "cell_type": "code",
   "execution_count": 12,
   "metadata": {},
   "outputs": [
    {
     "data": {
      "text/plain": [
       "3.3515625"
      ]
     },
     "execution_count": 12,
     "metadata": {},
     "output_type": "execute_result"
    }
   ],
   "source": [
    "def bound(n, epslon):\n",
    "    left = 0\n",
    "    right = n\n",
    "    m = (left+right) / 2.0\n",
    "    while abs(m*m - n) > epslon:\n",
    "        if m*m > n:\n",
    "            right = m\n",
    "        else:\n",
    "            left = m\n",
    "        m = (left+right) / 2.0\n",
    "    return m\n",
    "bound(11, 0.25)"
   ]
  }
 ],
 "metadata": {
  "kernelspec": {
   "display_name": "Python [conda root]",
   "language": "python",
   "name": "conda-root-py"
  },
  "language_info": {
   "codemirror_mode": {
    "name": "ipython",
    "version": 2
   },
   "file_extension": ".py",
   "mimetype": "text/x-python",
   "name": "python",
   "nbconvert_exporter": "python",
   "pygments_lexer": "ipython2",
   "version": "2.7.13"
  }
 },
 "nbformat": 4,
 "nbformat_minor": 2
}

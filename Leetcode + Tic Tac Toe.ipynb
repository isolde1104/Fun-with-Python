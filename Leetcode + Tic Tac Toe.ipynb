{
 "cells": [
  {
   "cell_type": "code",
   "execution_count": 1,
   "metadata": {
    "collapsed": true
   },
   "outputs": [],
   "source": [
    "import math\n",
    "import numpy as np\n",
    "import itertools as itl"
   ]
  },
  {
   "cell_type": "markdown",
   "metadata": {},
   "source": [
    "## Merge Two Sorted Lists"
   ]
  },
  {
   "cell_type": "code",
   "execution_count": 30,
   "metadata": {},
   "outputs": [
    {
     "data": {
      "text/plain": [
       "[1, 3, 4, 5, 6, 7, 10, 11, 12, 13, 18]"
      ]
     },
     "execution_count": 30,
     "metadata": {},
     "output_type": "execute_result"
    }
   ],
   "source": [
    "a = [3, 4, 6, 10, 11, 18]\n",
    "b = [1, 5, 7, 12, 13, 19, 21]\n",
    "c = []\n",
    "\n",
    "def merge_lists(a, b):\n",
    "    while a and b:\n",
    "        if a[0] > b[0]:\n",
    "            c.append(b.pop(0))\n",
    "        else:\n",
    "            c.append(a.pop(0))\n",
    "    return c\n",
    "merge_lists(a, b)"
   ]
  },
  {
   "cell_type": "markdown",
   "metadata": {},
   "source": [
    "## Remove duplicates from an array\n",
    "* Given [3,1,2,3]  return [3,1,2]"
   ]
  },
  {
   "cell_type": "code",
   "execution_count": 31,
   "metadata": {},
   "outputs": [
    {
     "data": {
      "text/plain": [
       "[3, 1, 2, 4, 6]"
      ]
     },
     "execution_count": 31,
     "metadata": {},
     "output_type": "execute_result"
    }
   ],
   "source": [
    "def remove_dup(lst):\n",
    "    new_lst = []\n",
    "    for i in lst:\n",
    "        if i in new_lst:\n",
    "            continue\n",
    "        else:\n",
    "            new_lst.append(i)\n",
    "    return new_lst\n",
    "lst = [3,1,2,3,4,4,6,2]\n",
    "remove_dup(lst)"
   ]
  },
  {
   "cell_type": "markdown",
   "metadata": {},
   "source": [
    "## Frequency of a substring\n",
    "* Given a string ['abcdabceea'] find 'abc' return 2"
   ]
  },
  {
   "cell_type": "code",
   "execution_count": 2,
   "metadata": {},
   "outputs": [
    {
     "data": {
      "text/plain": [
       "2"
      ]
     },
     "execution_count": 2,
     "metadata": {},
     "output_type": "execute_result"
    }
   ],
   "source": [
    "def count_substring(string, substr):\n",
    "    counter = 0\n",
    "    while substr in string:\n",
    "        index = string.find(substr)\n",
    "        string = string[(index + len(substr) - 1):]\n",
    "        counter += 1\n",
    "    return counter\n",
    "string = 'abcdabceea'\n",
    "substr = 'abc'\n",
    "count_substring(string, substr)"
   ]
  },
  {
   "cell_type": "code",
   "execution_count": 12,
   "metadata": {},
   "outputs": [
    {
     "name": "stdout",
     "output_type": "stream",
     "text": [
      "(0, 2)\n",
      "(4, 6)\n",
      "(9, 11)\n"
     ]
    }
   ],
   "source": [
    "import re\n",
    "def find_string(s, substr):\n",
    "    pattern = re.compile(substr)\n",
    "    r = pattern.search(s)\n",
    "    if not r: print \"(-1,-1)\"\n",
    "    while r:\n",
    "        print \"({0}, {1})\".format(r.start(), r.end()-1)\n",
    "        r = pattern.search(s, r.start()+1)\n",
    "find_string('abcdabcedabc', 'abc')"
   ]
  },
  {
   "cell_type": "code",
   "execution_count": 5,
   "metadata": {},
   "outputs": [
    {
     "name": "stdout",
     "output_type": "stream",
     "text": [
      "2\n",
      "[[3, 5], [5, 7]]\n"
     ]
    }
   ],
   "source": [
    "def find_string(s, substr):\n",
    "    counter = 0\n",
    "    indx = 0\n",
    "    lst = []\n",
    "    for i in range(len(s)):\n",
    "        indx = s.find(substr, indx)\n",
    "        counter += 1\n",
    "    print counter\n",
    "    print lst\n",
    "find_string('absabcabdedabc', 'abc')"
   ]
  },
  {
   "cell_type": "code",
   "execution_count": 16,
   "metadata": {},
   "outputs": [
    {
     "name": "stdout",
     "output_type": "stream",
     "text": [
      "[(3, 5), (11, 13), (14, 16)] 3\n"
     ]
    }
   ],
   "source": [
    "import re\n",
    "def find_string(s, s1):\n",
    "    lst = []\n",
    "    pattern = re.compile(s1)\n",
    "    r = pattern.search(s)\n",
    "    while r:\n",
    "        lst.append((r.start(), r.end()-1))\n",
    "        r = pattern.search(s, r.start()+1)\n",
    "    print lst, len(lst)\n",
    "find_string('absabcabdedabcabc', 'abc')"
   ]
  },
  {
   "cell_type": "markdown",
   "metadata": {},
   "source": [
    "## Two Sum\n",
    "Given an array of integers, return indices of the two numbers such that they add up to a specific target.\n",
    "You may assume that each input would have exactly one solution, and you may not use the same element twice."
   ]
  },
  {
   "cell_type": "code",
   "execution_count": 79,
   "metadata": {},
   "outputs": [
    {
     "data": {
      "text/plain": [
       "[1, 2]"
      ]
     },
     "execution_count": 79,
     "metadata": {},
     "output_type": "execute_result"
    }
   ],
   "source": [
    "def twoSum(nums, target):\n",
    "    dic = {}\n",
    "    for i, num in enumerate(nums):\n",
    "        if num in dic:\n",
    "            return [dic[num], i]\n",
    "        else:\n",
    "            dic[target - num] = i\n",
    "nums = [2,3,7,9,5]\n",
    "twoSum(nums, 10)"
   ]
  },
  {
   "cell_type": "markdown",
   "metadata": {},
   "source": [
    "## Minimum Difference Between Two Sorted Arrays\n",
    "Given two arrays sorted in ascending order, find the absolute minimum difference between any pair of elements|a-b|such thatais from one array andbis from another array"
   ]
  },
  {
   "cell_type": "code",
   "execution_count": 124,
   "metadata": {},
   "outputs": [
    {
     "data": {
      "text/plain": [
       "3"
      ]
     },
     "execution_count": 124,
     "metadata": {},
     "output_type": "execute_result"
    }
   ],
   "source": [
    "def mindiff(ar1, ar2):\n",
    "    m = len(ar1)\n",
    "    n = len(ar2)\n",
    "    \n",
    "    dif = sys.maxsize\n",
    "    p1 = 0\n",
    "    p2 = 0\n",
    "    \n",
    "    while p1 < m and p2 < n:\n",
    "        if abs(ar1[p1] - ar2[p2]) < dif:\n",
    "            dif = abs(ar1[p1] - ar2[p2])\n",
    "        if (ar1[p1] > ar2[p2]):\n",
    "            p2+= 1\n",
    "        else:\n",
    "            p1+= 1\n",
    "    return dif\n",
    "ar1 = [1, 4, 5, 7]\n",
    "ar2 = [10, 20, 30, 40]  \n",
    "mindiff(ar1,ar2)"
   ]
  },
  {
   "cell_type": "markdown",
   "metadata": {},
   "source": [
    "## Frequency of Words"
   ]
  },
  {
   "cell_type": "code",
   "execution_count": 12,
   "metadata": {
    "collapsed": true
   },
   "outputs": [],
   "source": [
    "typethis = 'the clown ran after the car the car ran into the tent'"
   ]
  },
  {
   "cell_type": "code",
   "execution_count": 98,
   "metadata": {},
   "outputs": [
    {
     "name": "stdout",
     "output_type": "stream",
     "text": [
      "Enter a line of text: \n",
      "'the clown ran after the car the car ran into the tent'\n",
      "Words are  ['the', 'clown', 'ran', 'after', 'the', 'car', 'the', 'car', 'ran', 'into', 'the', 'tent']\n",
      "Counting...\n",
      "Counts,  {'ran': 2, 'car': 2, 'into': 1, 'after': 1, 'clown': 1, 'the': 4, 'tent': 1}\n"
     ]
    }
   ],
   "source": [
    "counts = {}\n",
    "print 'Enter a line of text: '\n",
    "line = input('')\n",
    "words = line.split()\n",
    "print 'Words are ', words\n",
    "print 'Counting...'\n",
    "\n",
    "for word in words:\n",
    "    counts[word] = counts.get(word, 0) + 1\n",
    "print 'Counts, ', counts"
   ]
  },
  {
   "cell_type": "code",
   "execution_count": 101,
   "metadata": {},
   "outputs": [
    {
     "name": "stdout",
     "output_type": "stream",
     "text": [
      "('the', 4)\n",
      "('ran', 2)\n",
      "('car', 2)\n",
      "('tent', 1)\n",
      "('into', 1)\n",
      "('clown', 1)\n",
      "('after', 1)\n"
     ]
    }
   ],
   "source": [
    "lst = []\n",
    "for k,v in counts.items():\n",
    "    lst.append((v, k))\n",
    "lst = sorted(lst, reverse = True)\n",
    "for v, k in lst[:10]:\n",
    "    print (k, v)"
   ]
  },
  {
   "cell_type": "code",
   "execution_count": 103,
   "metadata": {},
   "outputs": [
    {
     "data": {
      "text/plain": [
       "[(4, 'the'),\n",
       " (2, 'ran'),\n",
       " (2, 'car'),\n",
       " (1, 'tent'),\n",
       " (1, 'into'),\n",
       " (1, 'clown'),\n",
       " (1, 'after')]"
      ]
     },
     "execution_count": 103,
     "metadata": {},
     "output_type": "execute_result"
    }
   ],
   "source": [
    "sorted([(v, k) for k, v in counts.items()], reverse=True)"
   ]
  },
  {
   "cell_type": "code",
   "execution_count": 15,
   "metadata": {},
   "outputs": [
    {
     "name": "stdout",
     "output_type": "stream",
     "text": [
      "Value : 7\n",
      "Value : Never\n",
      "Value: Zabra\n"
     ]
    }
   ],
   "source": [
    "### Get function\n",
    "dict = {'Name': 'Zabra', 'Age': 7}\n",
    "print \"Value : %s\" %  dict.get('Age')\n",
    "print \"Value : %s\" %  dict.get('Education', \"Never\")\n",
    "print \"Value: %s\" % dict.get('Name')"
   ]
  },
  {
   "cell_type": "code",
   "execution_count": 30,
   "metadata": {},
   "outputs": [
    {
     "name": "stdout",
     "output_type": "stream",
     "text": [
      "('the', 4)\n"
     ]
    }
   ],
   "source": [
    "bigcount = None\n",
    "bigword = None\n",
    "for k, v in counts.items():\n",
    "    if bigcount is None or v > bigcount:\n",
    "        bigword = k\n",
    "        bigcount = v\n",
    "print (bigword, bigcount)"
   ]
  },
  {
   "cell_type": "code",
   "execution_count": 75,
   "metadata": {},
   "outputs": [
    {
     "name": "stdout",
     "output_type": "stream",
     "text": [
      "223\n",
      "232\n",
      "223\n",
      "232\n",
      "322\n",
      "322\n"
     ]
    }
   ],
   "source": [
    "import math\n",
    "\n",
    "def perm(result, nums):\n",
    "    if (len(nums)==0):\n",
    "        print(result)\n",
    "\n",
    "    for i in range(len(nums)):\n",
    "        perm(result+str(nums[i]), nums[0:i]+nums[i+1:])\n",
    "    \n",
    "nums = [2, 2, 3]\n",
    "perm('', nums)"
   ]
  },
  {
   "cell_type": "markdown",
   "metadata": {},
   "source": [
    "## Tic Tac Toe Game"
   ]
  },
  {
   "cell_type": "code",
   "execution_count": 120,
   "metadata": {},
   "outputs": [
    {
     "name": "stdout",
     "output_type": "stream",
     "text": [
      "0 | 1 | 2\n",
      "---------\n",
      "3 | 4 | 5\n",
      "---------\n",
      "6 | 7 | 8\n"
     ]
    }
   ],
   "source": [
    "import random\n",
    "board = [0, 1, 2, \n",
    "         3, 4, 5, \n",
    "         6, 7, 8]\n",
    "def show():\n",
    "    print board[0], '|', board[1], '|', board[2]\n",
    "    print '-'*9\n",
    "    print board[3], '|', board[4], '|', board[5]\n",
    "    print '-'*9\n",
    "    print board[6], '|', board[7], '|', board[8]\n",
    "show()"
   ]
  },
  {
   "cell_type": "code",
   "execution_count": 122,
   "metadata": {},
   "outputs": [
    {
     "name": "stdout",
     "output_type": "stream",
     "text": [
      "Select a spot: 3\n",
      "o | 1 | 2\n",
      "---------\n",
      "x | 4 | 5\n",
      "---------\n",
      "6 | 7 | 8\n",
      "Select a spot: 4\n",
      "o | 1 | 2\n",
      "---------\n",
      "x | x | 5\n",
      "---------\n",
      "6 | 7 | 8\n",
      "Select a spot: 5\n",
      "~~X wins~~\n"
     ]
    }
   ],
   "source": [
    "board = [0, 1, 2, 3, 4, 5, 6, 7, 8]\n",
    "def show():\n",
    "    print board[0], '|', board[1], '|', board[2]\n",
    "    print '-'*9\n",
    "    print board[3], '|', board[4], '|', board[5]\n",
    "    print '-'*9\n",
    "    print board[6], '|', board[7], '|', board[8]\n",
    "\n",
    "def checkline(char, spot1, spot2, spot3):\n",
    "    if board[spot1] == char and board[spot2] == char and board[spot3] == char:\n",
    "        return True\n",
    "\n",
    "def checkall(char):\n",
    "    if checkline(char, 0,3,6) == True:\n",
    "        return True\n",
    "    if checkline(char, 1,4,7) == True:\n",
    "        return True\n",
    "    if checkline(char, 2,5,8) == True:\n",
    "        return True\n",
    "    if checkline(char, 0,1,2) == True:\n",
    "        return True\n",
    "    if checkline(char, 3,4,5) == True:\n",
    "        return True\n",
    "    if checkline(char, 6,7,8) == True:\n",
    "        return True\n",
    "    if checkline(char, 0,4,8) == True:\n",
    "        return True\n",
    "    if checkline(char, 2,4,6) == True:\n",
    "        return True\n",
    "\n",
    "while True:\n",
    "    input = int(raw_input('Select a spot: '))\n",
    "    if board[input] != 'x' and board[input] != 'o':\n",
    "        board[input] = 'x'\n",
    "        \n",
    "        # check the winner\n",
    "        if checkall('x') == True:\n",
    "            print '~~X wins~~'\n",
    "            break;\n",
    "        \n",
    "        while True:     \n",
    "            random.seed()\n",
    "            opponent = random.randint(0,8)\n",
    "            if board[opponent] != 'o' and board[opponent] != 'x':\n",
    "                board[opponent] = 'o'\n",
    "            # check the winner\n",
    "            if checkall('o') == True:\n",
    "                print '~~O wins~~'   \n",
    "                break;\n",
    "            break;\n",
    "    else:\n",
    "        print 'This spot is taken.'\n"
   ]
  }
 ],
 "metadata": {
  "kernelspec": {
   "display_name": "Python [conda root]",
   "language": "python",
   "name": "conda-root-py"
  },
  "language_info": {
   "codemirror_mode": {
    "name": "ipython",
    "version": 2
   },
   "file_extension": ".py",
   "mimetype": "text/x-python",
   "name": "python",
   "nbconvert_exporter": "python",
   "pygments_lexer": "ipython2",
   "version": "2.7.13"
  }
 },
 "nbformat": 4,
 "nbformat_minor": 2
}
